{
 "cells": [
  {
   "cell_type": "markdown",
   "metadata": {},
   "source": [
    "# Solving simple FEM by FEniCS library"
   ]
  },
  {
   "cell_type": "markdown",
   "metadata": {},
   "source": [
    "The first line in the program, we imports the key classes from FEniCS library including UnitSquareMesh, FunctionSpace, Function, and so forth. "
   ]
  },
  {
   "cell_type": "code",
   "execution_count": 1,
   "metadata": {},
   "outputs": [],
   "source": [
    "from fenics import *"
   ]
  },
  {
   "cell_type": "markdown",
   "metadata": {},
   "source": [
    "We generate a uniform finite element mesh over unit squre $[0,1] \\times [0,1]$. The mesh consists of cells which are triangles in 2 dimentional space. The parameters 8 and 10 indicate that the square is divided into $8\\times 10$ regtangles, each divided into a pair of triangles. Thus, we have 160 triangle cells and $9 \\cdot 11 = 99$ vertices or notes. "
   ]
  },
  {
   "cell_type": "code",
   "execution_count": 3,
   "metadata": {},
   "outputs": [
    {
     "name": "stdout",
     "output_type": "stream",
     "text": [
      "[<matplotlib.lines.Line2D object at 0x7f638b1907b8>, <matplotlib.lines.Line2D object at 0x7f638b190b00>]\n"
     ]
    },
    {
     "data": {
      "image/png": "[encoded data removed]",
      "text/plain": [
       "<Figure size 432x288 with 1 Axes>"
      ]
     },
     "metadata": {
      "needs_background": "light"
     },
     "output_type": "display_data"
    }
   ],
   "source": [
    "# Create a simple mesh and define function space\n",
    "mesh = UnitSquareMesh(8,10)\n",
    "print(plot(mesh))"
   ]
  },
  {
   "cell_type": "markdown",
   "metadata": {},
   "source": [
    "Once the mesh had been created, we create a finite element space. The letter $'P'$ in the second argument specifies the type of element. In this case, the standard $P_1$ linear Lagrage element, which is a triangle with nodes a the three vertices, is employed.  "
   ]
  },
  {
   "cell_type": "code",
   "execution_count": 4,
   "metadata": {},
   "outputs": [],
   "source": [
    "# We create a finite element function space\n",
    "SpaceV = FunctionSpace(mesh, 'P', 1)"
   ]
  },
  {
   "cell_type": "markdown",
   "metadata": {},
   "source": [
    "The Dirichlet boundary condition: $u=u_D = 1+ x^2 + 2y^2$ on $\\partial \\Omega$ is defined as follow"
   ]
  },
  {
   "cell_type": "code",
   "execution_count": 5,
   "metadata": {},
   "outputs": [],
   "source": [
    "# Define boundary condition\n",
    "u_D = Expression('1+ x[0]*x[0] + 2*x[1]*x[1]', degree = 2)"
   ]
  },
  {
   "cell_type": "markdown",
   "metadata": {},
   "source": [
    "The expression depend on the variable $x[0]$ and $x[1]$ corresponding to the $x$ and $y$ coordinates. "
   ]
  },
  {
   "cell_type": "code",
   "execution_count": 7,
   "metadata": {},
   "outputs": [],
   "source": [
    "def boundary(x, on_boundary):\n",
    "    return on_boundary\n",
    "\n",
    "bc = DirichletBC(SpaceV, u_D, boundary)"
   ]
  },
  {
   "cell_type": "markdown",
   "metadata": {},
   "source": [
    "The above def allow us to return a boolean value: True if the given point $x$ lies on the Dirichlet boundary and False, otherwise. The argument on_boundary is True if x is on the physical boundary of the mesh.\n",
    "<p>\n",
    "We will not distinguish between the trial and test spaces, instead, it is sufficient to work with one common space."
   ]
  },
  {
   "cell_type": "code",
   "execution_count": 8,
   "metadata": {},
   "outputs": [],
   "source": [
    "# Define variational problem\n",
    "u = TrialFunction(SpaceV)\n",
    "v = TestFunction(SpaceV)\n",
    "f = Constant(-6.0)\n",
    "a = dot(grad(u), grad(v)) *dx\n",
    "L = f*v*dx"
   ]
  },
  {
   "cell_type": "code",
   "execution_count": 9,
   "metadata": {},
   "outputs": [],
   "source": [
    "# Compute solution\n",
    "u = Function(SpaceV)\n",
    "solve(a == L, u, bc)"
   ]
  },
  {
   "cell_type": "code",
   "execution_count": 10,
   "metadata": {},
   "outputs": [
    {
     "data": {
      "text/plain": [
       "<matplotlib.tri.tricontour.TriContourSet at 0x7f638a3c8ac8>"
      ]
     },
     "execution_count": 10,
     "metadata": {},
     "output_type": "execute_result"
    },
    {
     "data": {
      "image/png": "[encoded data removed]",
      "text/plain": [
       "<Figure size 432x288 with 1 Axes>"
      ]
     },
     "metadata": {
      "needs_background": "light"
     },
     "output_type": "display_data"
    }
   ],
   "source": [
    "%matplotlib inline\n",
    "# Plot solution and mesh\n",
    "plot(u)"
   ]
  },
  {
   "cell_type": "code",
   "execution_count": 12,
   "metadata": {},
   "outputs": [
    {
     "name": "stdout",
     "output_type": "stream",
     "text": [
      "error_L2 = 0.006231570049175686\n",
      "error_max = 1.7763568394002505e-15\n"
     ]
    }
   ],
   "source": [
    "# Compute error in L2 norm \n",
    "error_L2 = errornorm(u_D, u, 'L2')\n",
    "# Compute maximum error at vertices \n",
    "vertex_values_u_D = u_D.compute_vertex_values(mesh) \n",
    "vertex_values_u = u.compute_vertex_values(mesh) \n",
    "import numpy as np \n",
    "error_max = np.max(np.abs(vertex_values_u_D - vertex_values_u))\n",
    "# Print errors \n",
    "\n",
    "print('error_L2 =', error_L2) \n",
    "print('error_max =', error_max)\n"
   ]
  }
 ],
 "metadata": {
  "kernelspec": {
   "display_name": "Python 3",
   "language": "python",
   "name": "python3"
  },
  "language_info": {
   "codemirror_mode": {
    "name": "ipython",
    "version": 3
   },
   "file_extension": ".py",
   "mimetype": "text/x-python",
   "name": "python",
   "nbconvert_exporter": "python",
   "pygments_lexer": "ipython3",
   "version": "3.7.3"
  }
 },
 "nbformat": 4,
 "nbformat_minor": 2
}
